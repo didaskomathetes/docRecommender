{
 "cells": [
  {
   "cell_type": "code",
   "execution_count": 1,
   "metadata": {
    "pycharm": {
     "is_executing": true
    }
   },
   "outputs": [
    {
     "name": "stderr",
     "output_type": "stream",
     "text": [
      "/home/mihariel/PycharmProjects/docRecommender/venv/lib/python3.8/site-packages/treetaggerwrapper.py:739: FutureWarning: Possible nested set at position 8\n",
      "  punct2find_re = re.compile(\"([^ ])([[\" + ALONEMARKS + \"])\",\n",
      "/home/mihariel/PycharmProjects/docRecommender/venv/lib/python3.8/site-packages/treetaggerwrapper.py:2043: FutureWarning: Possible nested set at position 152\n",
      "  DnsHostMatch_re = re.compile(\"(\" + DnsHost_expression + \")\",\n",
      "/home/mihariel/PycharmProjects/docRecommender/venv/lib/python3.8/site-packages/treetaggerwrapper.py:2067: FutureWarning: Possible nested set at position 409\n",
      "  UrlMatch_re = re.compile(UrlMatch_expression, re.VERBOSE | re.IGNORECASE)\n",
      "/home/mihariel/PycharmProjects/docRecommender/venv/lib/python3.8/site-packages/treetaggerwrapper.py:2079: FutureWarning: Possible nested set at position 192\n",
      "  EmailMatch_re = re.compile(EmailMatch_expression, re.VERBOSE | re.IGNORECASE)\n"
     ]
    }
   ],
   "source": [
    "import treetagger.tree_tagger_tokenizer as tokenizer\n",
    "from sklearn.feature_extraction.text import TfidfVectorizer\n",
    "from sklearn.metrics.pairwise import cosine_similarity\n",
    "import numpy as np\n",
    "\n",
    "with open(\"../data/text-snippets-de.txt\") as f:\n",
    "    content = f.readlines()\n",
    "\n",
    "number_of_recommendations=10\n",
    "\n",
    "vectorizer = TfidfVectorizer(tokenizer=tokenizer.tokenize)\n",
    "\n",
    "test_case=\"Mit meinem Arbeitgeber habe ich vereinbart, dass ich die Benzinkosten selbst bezahle, wenn ich meinen Firmenwagen privat nutze. Reduziert dies den zu versteuernden geldwerten Vorteil, den ich nach der 1%-Regel bestimme?\"\n"
   ]
  },
  {
   "cell_type": "code",
   "execution_count": 2,
   "metadata": {},
   "outputs": [],
   "source": [
    "# fit the model\n",
    "Y=vectorizer.fit_transform(content)\n",
    "x=vectorizer.transform([test_case])\n",
    "predictions=cosine_similarity(x,Y)"
   ]
  },
  {
   "cell_type": "code",
   "execution_count": 3,
   "metadata": {
    "pycharm": {
     "is_executing": true
    }
   },
   "outputs": [
    {
     "name": "stdout",
     "output_type": "stream",
     "text": [
      "['mit', 'mein', 'Arbeitgeber', 'haben', 'ich', 'vereinbaren', 'dass', 'ich', 'die', 'Benzinkosten', 'selbst', 'bezahlen', 'wenn', 'ich', 'mein', 'Firmenwagen', 'privat', 'nutzen', '.', 'reduzieren', 'dies', 'die', 'zu', 'versteuernd', 'geldwerten', 'Vorteil', 'die', 'ich', 'nach', 'die', '@card@', '%', '-Regel', 'bestimmen', '?']\n",
      "  (0, 13057)\t0.08156283957346319\n",
      "  (0, 12744)\t0.08844446965877563\n",
      "  (0, 12291)\t0.2645011146338472\n",
      "  (0, 11942)\t0.24730988827217243\n",
      "  (0, 10896)\t0.20781468755731083\n",
      "  (0, 10452)\t0.3509756458324539\n",
      "  (0, 10192)\t0.20246820922347963\n",
      "  (0, 9878)\t0.22440096484556166\n",
      "  (0, 9650)\t0.08742529907481918\n",
      "  (0, 9519)\t0.1019635717204567\n",
      "  (0, 8178)\t0.10287207415567072\n",
      "  (0, 7737)\t0.30207866771947134\n",
      "  (0, 6369)\t0.1078072474171033\n",
      "  (0, 6338)\t0.20324570639883835\n",
      "  (0, 6236)\t0.10793393793369101\n",
      "  (0, 5938)\t0.37118917275965907\n",
      "  (0, 5774)\t0.20080629894991836\n",
      "  (0, 4024)\t0.2329681626792837\n",
      "  (0, 473)\t0.18666930749055705\n",
      "  (0, 246)\t0.07036384726727801\n",
      "  (0, 245)\t0.2962068663851549\n",
      "  (0, 36)\t0.05036971641568687\n",
      "  (0, 0)\t0.2231060169367036\n",
      "[[0.02405107 0.06007507 0.05119744 ... 0.03519754 0.05382705 0.08651548]]\n",
      "0.3055201123673566\n",
      "(1, 1259)\n"
     ]
    }
   ],
   "source": [
    "# make sure everything's working correctly so far\n",
    "print(tokenizer.tokenize(test_case))\n",
    "print(x)\n",
    "\n",
    "print(predictions)\n",
    "print(np.max(predictions))\n",
    "print(predictions.shape)"
   ]
  },
  {
   "cell_type": "code",
   "execution_count": 4,
   "metadata": {
    "pycharm": {
     "is_executing": true
    }
   },
   "outputs": [
    {
     "name": "stdout",
     "output_type": "stream",
     "text": [
      "[ 522  217 1143  976  372  141  832  412   63  326]\n"
     ]
    }
   ],
   "source": [
    "# get indices of best fits\n",
    "sorted_predictions=(-predictions).argsort().flatten()[:number_of_recommendations]\n",
    "print(sorted_predictions)"
   ]
  },
  {
   "cell_type": "code",
   "execution_count": 5,
   "metadata": {
    "pycharm": {
     "is_executing": true
    }
   },
   "outputs": [
    {
     "name": "stdout",
     "output_type": "stream",
     "text": [
      "522\n",
      "1. NV: Die Bemessung des geldwerten Vorteils aus der Überlassung eines Dienstwagens nach der Fahrtenbuchmethode erfordert tatsächliche Feststellungen zur Ordnungsmäßigkeit des Fahrtenbuchs. Ohne diesbezügliche Feststellungen darf der Vorteil aus der Nutzungsüberlassung nicht nach der Fahrtenbuchmethode bewertet werden . 2. NV: Der vom Arbeitnehmer an den Arbeitgeber für die Dienstwagenüberlassung gezahlte Eigenanteil mindert den Wert des geldwerten Vorteils aus der Dienstwagenüberlassung bis zu einem Betrag von 0 € . 3. NV: Der Ansatz eines (negativen) geldwerten Vorteils (geldwerten Nachteils) aus der Dienstwagenüberlassung scheidet aus .\n",
      "\n",
      "217\n",
      "1. Die Anwendung der 1 %-Regelung setzt voraus, dass der Arbeitgeber seinem Arbeitnehmer tatsächlich einen Dienstwagen zur privaten Nutzung überlassen hat (Anschluss an Senatsurteil vom 21. April 2010 VI R 46/08, BFHE 229, 228, BStBl II 2010, 848). Denn der Ansatz eines lohnsteuerrechtlich erheblichen Vorteils rechtfertigt sich nur insoweit, als der Arbeitgeber dem Arbeitnehmer gestattet, den Dienstwagen privat zu nutzen . 2. Allein die Gestattung der Nutzung eines betrieblichen Fahrzeugs für Fahrten zwischen Wohnung und Arbeitsstätte begründet noch keine Überlassung zur privaten Nutzung i.S. des § 8 Abs. 2 Satz 2 EStG .\n",
      "\n",
      "1143\n",
      "1. NV: Die Anwendung der 1 %-Regelung setzt voraus, dass der Arbeitgeber seinem Arbeitnehmer tatsächlich einen Dienstwagen zur privaten Nutzung überlassen hat (Anschluss an Senatsurteil vom 21. April 2010 VI R 46/08, BFHE 229, 228, BStBl II 2010, 848). Denn der Ansatz eines lohnsteuerrechtlich erheblichen Vorteils rechtfertigt sich nur insoweit, als der Arbeitgeber dem Arbeitnehmer gestattet, den Dienstwagen privat zu nutzen . 2. NV: Allein die Gestattung der Nutzung eines betrieblichen Fahrzeugs für Fahrten zwischen Wohnung und Arbeitsstätte begründet noch keine Überlassung zur privaten Nutzung i.S. des § 8 Abs. 2 Satz EStG .\n",
      "\n",
      "976\n",
      "1. NV: Die Anwendung der 1 %-Regelung setzt voraus, dass der Arbeitgeber seinem Arbeitnehmer tatsächlich einen Dienstwagen zur privaten Nutzung überlassen hat (Anschluss an Senatsurteil vom 21. April 2010 VI R 46/08, BFHE 229, 228, BStBl II 2010, 848). Denn der Ansatz eines lohnsteuerrechtlich erheblichen Vorteils rechtfertigt sich nur insoweit, als der Arbeitgeber dem Arbeitnehmer gestattet, den Dienstwagen privat zu nutzen . 2. NV: Allein die Gestattung der Nutzung eines betrieblichen Fahrzeugs für Fahrten zwischen Wohnung und Arbeitsstätte begründet noch keine Überlassung zur privaten Nutzung i.S. des § 8 Abs. 2 Satz 2 EStG .\n",
      "\n",
      "372\n",
      "1. Die Anwendung der 1 %-Regelung setzt voraus, dass der Arbeitgeber seinem Arbeitnehmer tatsächlich einen Dienstwagen zur privaten Nutzung überlassen hat . 2. Der Anscheinsbeweis streitet dafür, dass der Arbeitnehmer einen ihm vom Arbeitgeber zur privaten Nutzung überlassenen Dienstwagen auch tatsächlich privat nutzt, nicht aber dafür, dass der Arbeitgeber dem Arbeitnehmer den Dienstwagen zur privaten Nutzung überlassen hat .\n",
      "\n",
      "141\n",
      "1. Überlässt der Arbeitgeber dem Arbeitnehmer mehr als ein Kfz auch zur privaten Nutzung, so ist der in der Überlassung des Fahrzeugs zur privaten Nutzung liegende geldwerte Vorteil für jedes Fahrzeug nach der 1 %-Regelung zu berechnen . 2. Die Inhaftungnahme des Arbeitgebers nach § 42d Abs. 3 Satz 2 EStG ist regelmäßig ermessensfehlerhaft, wenn der Arbeitgeber entsprechend einer Billigkeitsregelung der Finanzbehörden Lohnsteuer materiell unzutreffend einbehält .\n",
      "\n",
      "832\n",
      "Überlässt ein Arbeitgeber seinem Arbeitnehmer einen betrieblichen PKW, dessen Kosten der Arbeitgeber in vollem Umfang trägt, auch zur Nutzung für Fahrten im privaten Bereich und zur Erzielung anderer Einkünfte und versteuert der Arbeitnehmer den daraus erlangten geldwerten Vorteil nach der sog. 1 %-Regelung, kann der Arbeitnehmer für die Nutzung des PKW im Rahmen der Einkünfte aus selbständiger Tätigkeit keine Betriebsausgaben abziehen .\n",
      "\n",
      "412\n",
      "Auch wenn die Anwendung der 1 %-Regelung seit 2006 voraussetzt, dass das Kfz zu mehr als 50 % betrieblich genutzt wird, ist es verfassungsrechtlich nicht geboten, die nach der 1 %-Regelung ermittelte Nutzungsentnahme auf 50 % der Gesamtaufwendungen für das Kfz zu begrenzen .\n",
      "\n",
      "63\n",
      "1. Leistet der Arbeitnehmer an den Arbeitgeber für die außerdienstliche Nutzung, d.h. für die Nutzung zu privaten Fahrten und zu Fahrten zwischen Wohnung und regelmäßiger Arbeitsstätte, eines betrieblichen Kfz ein Nutzungsentgelt, mindert dies den Wert des geldwerten Vorteils aus der Nutzungsüberlassung (Anschluss an Senatsurteil vom 7. November 2006 VI R 95/04, BFHE 215, 252, BStBl II 2007, 269). 2. Nichts anderes gilt, wenn der Arbeitnehmer im Rahmen der privaten Nutzung einzelne (individuelle) Kosten (hier: Kraftstoffkosten) des betrieblichen PKW trägt. Der Umstand, dass der geldwerte Vorteil aus der Kfz-Überlassung nach der 1 %-Regelung ermittelt worden ist, steht dem nicht entgegen. 3. Eine vorteilsmindernde Berücksichtigung der für den betrieblichen PKW getragenen Aufwendungen beim Arbeitnehmer kommt allerdings nur in Betracht, wenn er den geltend gemachten Aufwand im Einzelnen umfassend darlegt und belastbar nachweist.\n",
      "\n",
      "326\n",
      "1. NV: Die unentgeltliche oder verbilligte Überlassung eines Dienstwagens durch den Arbeitgeber an den Arbeitnehmer für dessen Privatnutzung führt unabhängig davon, ob und in welchem Umfang der Arbeitnehmer den betrieblichen PKW tatsächlich privat nutzt, zu einem lohnsteuerlichen Vorteil (Abgrenzung von BFH-Urteil vom 7. November 2006 VI R 19/05, BFHE 215, 256, BStBl II 2007, 116). 2. NV: Ob der Arbeitnehmer den Beweis des ersten Anscheins, dass dienstliche Fahrzeuge, die zu privaten Zwecken zur Verfügung stehen, auch tatsächlich privat genutzt werden, durch die substantiierte Darlegung eines atypischen Sachverhalts zu entkräften vermag, ist damit für die Besteuerung des Nutzungsvorteils nach § 8 Abs. 2 Satz 2 EStG unerheblich (Änderung der Rechtsprechung).\n",
      "\n"
     ]
    }
   ],
   "source": [
    "# print best fits\n",
    "for i in sorted_predictions:\n",
    "    print(i)\n",
    "    print(content[i])"
   ]
  }
 ],
 "metadata": {
  "kernelspec": {
   "display_name": "Python 3",
   "language": "python",
   "name": "python3"
  },
  "language_info": {
   "codemirror_mode": {
    "name": "ipython",
    "version": 3
   },
   "file_extension": ".py",
   "mimetype": "text/x-python",
   "name": "python",
   "nbconvert_exporter": "python",
   "pygments_lexer": "ipython3",
   "version": "3.8.5"
  }
 },
 "nbformat": 4,
 "nbformat_minor": 1
}