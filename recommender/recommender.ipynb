{
 "cells": [
  {
   "cell_type": "code",
   "execution_count": 7,
   "metadata": {
    "pycharm": {
     "is_executing": true
    }
   },
   "outputs": [],
   "source": [
    "import treetagger.tree_tagger_tokenizer as tokenizer\n",
    "from sklearn.feature_extraction.text import TfidfVectorizer\n",
    "from sklearn.metrics.pairwise import cosine_similarity\n",
    "import keyword_extractor.mock_keyword_extractor as keyword_extractor\n",
    "import numpy as np\n",
    "\n",
    "\n",
    "with open(\"../data/text-snippets-de.txt\") as f:\n",
    "    content = f.readlines()\n",
    "    \n",
    "number_of_recommendations=10\n",
    "vectorizer = TfidfVectorizer(tokenizer=tokenizer.tokenize, ngram_range=(1, 3))\n",
    "test_case=\"Mit meinem Arbeitgeber habe ich vereinbart, dass ich die Benzinkosten selbst bezahle, wenn ich meinen Firmenwagen privat nutze. Reduziert dies den zu versteuernden geldwerten Vorteil, den ich nach der 1%-Regel bestimme?\"\n",
    "Y=vectorizer.fit_transform(content)\n",
    "x=vectorizer.transform([test_case])\n",
    "predictions=cosine_similarity(x,Y)"
   ]
  },
  {
   "cell_type": "code",
   "execution_count": 8,
   "metadata": {
    "pycharm": {
     "is_executing": true
    }
   },
   "outputs": [
    {
     "name": "stdout",
     "output_type": "stream",
     "text": [
      "['mit', 'mein', 'Arbeitgeber', 'haben', 'ich', 'vereinbaren', 'dass', 'ich', 'die', 'Benzinkosten', 'selbst', 'bezahlen', 'wenn', 'ich', 'mein', 'Firmenwagen', 'privat', 'nutzen', '.', 'reduzieren', 'dies', 'die', 'zu', 'versteuernd', 'geldwerten', 'Vorteil', 'die', 'ich', 'nach', 'die', '@card@', '%', '-Regel', 'bestimmen', '?']\n",
      "  (0, 194795)\t0.1810057398549317\n",
      "  (0, 193460)\t0.055815803052856404\n",
      "  (0, 188614)\t0.06052510095779815\n",
      "  (0, 181999)\t0.1810057398549317\n",
      "  (0, 179569)\t0.2540154544698635\n",
      "  (0, 179563)\t0.16924128793223894\n",
      "  (0, 164044)\t0.14221358320589472\n",
      "  (0, 158496)\t0.24018275511961223\n",
      "  (0, 156868)\t0.2165355993904878\n",
      "  (0, 156797)\t0.138554833911877\n",
      "  (0, 151440)\t0.22275561494735724\n",
      "  (0, 151439)\t0.1535640510334307\n",
      "  (0, 146778)\t0.20672114301161462\n",
      "  (0, 146777)\t0.08730658795426405\n",
      "  (0, 146588)\t0.05982765313856007\n",
      "  (0, 144576)\t0.069776612333228\n",
      "  (0, 129085)\t0.07039832674707298\n",
      "  (0, 124124)\t0.20672114301161462\n",
      "  (0, 124121)\t0.20672114301161462\n",
      "  (0, 99791)\t0.1722097362496903\n",
      "  (0, 99172)\t0.07377560811972232\n",
      "  (0, 98073)\t0.19015773591786816\n",
      "  (0, 98039)\t0.13272250018941265\n",
      "  (0, 79308)\t0.16924128793223894\n",
      "  (0, 79307)\t0.15735858412580728\n",
      "  (0, 79302)\t0.1390868976487567\n",
      "  (0, 77794)\t0.07386230609345035\n",
      "  (0, 74339)\t0.2540154544698635\n",
      "  (0, 72240)\t0.1374175407891055\n",
      "  (0, 49923)\t0.20672114301161462\n",
      "  (0, 49908)\t0.15942683155336573\n",
      "  (0, 13658)\t0.20270290004023656\n",
      "  (0, 13503)\t0.1277431898814852\n",
      "  (0, 3314)\t0.15540858858198767\n",
      "  (0, 3313)\t0.04815200968541878\n",
      "  (0, 3300)\t0.20270290004023656\n",
      "  (0, 221)\t0.03446944939617962\n",
      "  (0, 0)\t0.15267788083849249\n",
      "[[0.00670878 0.01844444 0.01794351 ... 0.01034172 0.02037173 0.02676599]]\n",
      "0.17689722456506077\n",
      "(1, 1259)\n",
      "['Fahrtkosten', '1%-Regel', 'Firmenwagen', 'geldwerter Vorteil', 'Privatnutzung']\n"
     ]
    }
   ],
   "source": [
    "# make sure everything's working correctly so far\n",
    "print(tokenizer.tokenize(test_case))\n",
    "print(x)\n",
    "\n",
    "print(predictions)\n",
    "print(np.max(predictions))\n",
    "print(predictions.shape)\n",
    "print(keyword_extractor.extract_keywords(test_case))"
   ]
  },
  {
   "cell_type": "code",
   "execution_count": 9,
   "metadata": {
    "pycharm": {
     "is_executing": true
    }
   },
   "outputs": [
    {
     "name": "stdout",
     "output_type": "stream",
     "text": [
      "[ 412  899  522  610   63  217  976  372 1143 1245]\n"
     ]
    }
   ],
   "source": [
    "# get indices of best fits\n",
    "sorted_predictions=(-predictions).argsort().flatten()[:number_of_recommendations]\n",
    "print(sorted_predictions)"
   ]
  },
  {
   "cell_type": "code",
   "execution_count": 10,
   "metadata": {
    "pycharm": {
     "is_executing": true
    }
   },
   "outputs": [
    {
     "name": "stdout",
     "output_type": "stream",
     "text": [
      "412\n",
      "Auch wenn die Anwendung der 1 %-Regelung seit 2006 voraussetzt, dass das Kfz zu mehr als 50 % betrieblich genutzt wird, ist es verfassungsrechtlich nicht geboten, die nach der 1 %-Regelung ermittelte Nutzungsentnahme auf 50 % der Gesamtaufwendungen für das Kfz zu begrenzen .\n",
      "\n",
      "899\n",
      "(1) 1 Sind in dem zu versteuernden Einkommen außerordentliche Einkünfte enthalten, so ist die auf alle im Veranlagungszeitraum bezogenen außerordentlichen Einkünfte entfallende Einkommensteuer nach den Sätzen 2 bis 4 zu berechnen. 2 Die für die außerordentlichen Einkünfte anzusetzende Einkommensteuer beträgt das Fünffache des Unterschiedsbetrags zwischen der Einkommensteuer für das um diese Einkünfte verminderte zu versteuernde Einkommen (verbleibendes zu versteuerndes Einkommen) und der Einkommensteuer für das verbleibende zu versteuernde Einkommen zuzüglich eines Fünftels dieser Einkünfte. 3 Ist das verbleibende zu versteuernde Einkommen negativ und das zu versteuernde Einkommen positiv, so beträgt die Einkommensteuer das Fünffache der auf ein Fünftel des zu versteuernden Einkommens entfallenden Einkommensteuer. 4 Die Sätze 1 bis 3 gelten nicht für außerordentliche Einkünfte im Sinne des Absatzes 2 Nummer 1, wenn der Steuerpflichtige auf diese Einkünfte ganz oder teilweise § 6b oder § 6c anwendet. (2) Als außerordentliche Einkünfte kommen nur in Betracht: 1. Veräußerungsgewinne im Sinne der §§ 14, 14a Absatz 1, der §§ 16 und 18 Absatz 3 mit Ausnahme des steuerpflichtigen Teils der Veräußerungsgewinne, die nach § 3 Nummer 40 Buchstabe b in Verbindung mit § 3c Absatz 2 teilweise steuerbefreit sind; 2. Entschädigungen im Sinne des § 24 Nummer 1; 3. Nutzungsvergütungen und Zinsen im Sinne des § 24 Nummer 3, soweit sie für einen Zeitraum von mehr als drei Jahren nachgezahlt werden; 4. Vergütungen für mehrjährige Tätigkeiten; mehrjährig ist eine Tätigkeit, soweit sie sich über mindestens zwei Veranlagungszeiträume erstreckt und einen Zeitraum von mehr als zwölf Monaten umfasst. (3) 1 Sind in dem zu versteuernden Einkommen außerordentliche Einkünfte im Sinne des Absatzes 2 Nummer 1 enthalten, so kann auf Antrag abweichend von Absatz 1 die auf den Teil dieser außerordentlichen Einkünfte, der den Betrag von insgesamt 5 Millionen Euro nicht übersteigt, entfallende Einkommensteuer nach einem ermäßigten Steuersatz bemessen werden, wenn der Steuerpflichtige das 55. Lebensjahr vollendet hat oder wenn er im sozialversicherungsrechtlichen Sinne dauernd berufsunfähig ist. 2 Der ermäßigte Steuersatz beträgt 56 Prozent des durchschnittlichen Steuersatzes, der sich ergäbe, wenn die tarifliche Einkommensteuer nach dem gesamten zu versteuernden Einkommen zuzüglich der dem Progressionsvorbehalt unterliegenden Einkünfte zu bemessen wäre, mindestens jedoch 14 Prozent. 3 Auf das um die in Satz 1 genannten Einkünfte verminderte zu versteuernde Einkommen (verbleibendes zu versteuerndes Einkommen) sind vorbehaltlich des Absatzes 1 die allgemeinen Tarifvorschriften anzuwenden. 4 Die Ermäßigung nach den Sätzen 1 bis 3 kann der Steuerpflichtige nur einmal im Leben in Anspruch nehmen. 5 Erzielt der Steuerpflichtige in einem Veranlagungszeitraum mehr als einen Veräußerungs- oder Aufgabegewinn im Sinne des Satzes 1, kann er die Ermäßigung nach den Sätzen 1 bis 3 nur für einen Veräußerungs- oder Aufgabegewinn beantragen. 6 Absatz 1 Satz 4 ist entsprechend anzuwenden.\n",
      "\n",
      "522\n",
      "1. NV: Die Bemessung des geldwerten Vorteils aus der Überlassung eines Dienstwagens nach der Fahrtenbuchmethode erfordert tatsächliche Feststellungen zur Ordnungsmäßigkeit des Fahrtenbuchs. Ohne diesbezügliche Feststellungen darf der Vorteil aus der Nutzungsüberlassung nicht nach der Fahrtenbuchmethode bewertet werden . 2. NV: Der vom Arbeitnehmer an den Arbeitgeber für die Dienstwagenüberlassung gezahlte Eigenanteil mindert den Wert des geldwerten Vorteils aus der Dienstwagenüberlassung bis zu einem Betrag von 0 € . 3. NV: Der Ansatz eines (negativen) geldwerten Vorteils (geldwerten Nachteils) aus der Dienstwagenüberlassung scheidet aus .\n",
      "\n",
      "610\n",
      "(1) Bei unbeschränkt und beschränkt einkommensteuerpflichtigen Arbeitnehmern hat der Arbeitgeber den Lohnsteuerabzug nach Maßgabe der Absätze 2 bis 6 durchzuführen. (2) 1 Für die Einbehaltung der Lohnsteuer vom laufenden Arbeitslohn hat der Arbeitgeber die Höhe des laufenden Arbeitslohns im Lohnzahlungszeitraum festzustellen und auf einen Jahresarbeitslohn hochzurechnen. 2 Der Arbeitslohn eines monatlichen Lohnzahlungszeitraums ist mit zwölf, der Arbeitslohn eines wöchentlichen Lohnzahlungszeitraums mit 360 / 7 und der Arbeitslohn eines täglichen Lohnzahlungszeitraums mit 360 zu vervielfältigen. 3 Von dem hochgerechneten Jahresarbeitslohn sind ein etwaiger Versorgungsfreibetrag (§ 19 Absatz 2) und Altersentlastungsbetrag (§ 24a) abzuziehen. 4 Außerdem ist der hochgerechnete Jahresarbeitslohn um einen etwaigen als Lohnsteuerabzugsmerkmal für den Lohnzahlungszeitraum mitgeteilten Freibetrag (§ 39a Absatz 1) oder Hinzurechnungsbetrag (§ 39a Absatz 1 Satz 1 Nummer 7), vervielfältigt unter sinngemäßer Anwendung von Satz 2, zu vermindern oder zu erhöhen. 5 Der so verminderte oder erhöhte hochgerechnete Jahresarbeitslohn, vermindert um 1. den Arbeitnehmer-Pauschbetrag (§ 9a Satz 1 Nummer 1 Buchstabe a) oder bei Versorgungsbezügen den Pauschbetrag (§ 9a Satz 1 Nummer 1 Buchstabe b) und den Zuschlag zum Versorgungsfreibetrag (§ 19 Absatz 2) in den Steuerklassen I bis V, 2. den Sonderausgaben-Pauschbetrag (§ 10c Satz 1) in den Steuerklassen I bis V, 3. eine Vorsorgepauschale aus den Teilbeträgen a) für die Rentenversicherung bei Arbeitnehmern, die in der gesetzlichen Rentenversicherung pflichtversichert oder von der gesetzlichen Rentenversicherung nach § 6 Absatz 1 Nummer 1 des Sechsten Buches Sozialgesetzbuch befreit sind, in den Steuerklassen I bis VI in Höhe des Betrags, der bezogen auf den Arbeitslohn 50 Prozent des Beitrags in der allgemeinen Rentenversicherung unter Berücksichtigung der jeweiligen Beitragsbemessungsgrenzen entspricht, b) für die Krankenversicherung bei Arbeitnehmern, die in der gesetzlichen Krankenversicherung versichert sind, in den Steuerklassen I bis VI in Höhe des Betrags, der bezogen auf den Arbeitslohn unter Berücksichtigung der Beitragsbemessungsgrenze, den ermäßigten Beitragssatz (§ 243 des Fünften Buches Sozialgesetzbuch) und den Zusatzbeitragssatz der Krankenkasse (§ 242 des Fünften Buches Sozialgesetzbuch) dem Arbeitnehmeranteil eines pflichtversicherten Arbeitnehmers entspricht, c) für die Pflegeversicherung bei Arbeitnehmern, die in der sozialen Pflegeversicherung versichert sind, in den Steuerklassen I bis VI in Höhe des Betrags, der bezogen auf den Arbeitslohn unter Berücksichtigung der Beitragsbemessungsgrenze und den bundeseinheitlichen Beitragssatz dem Arbeitnehmeranteil eines pflichtversicherten Arbeitnehmers entspricht, erhöht um den Beitragszuschlag des Arbeitnehmers nach § 55 Absatz 3 des Elften Buches Sozialgesetzbuch, wenn die Voraussetzungen dafür vorliegen, d) für die Krankenversicherung und für die private Pflege-Pflichtversicherung bei Arbeitnehmern, die nicht unter Buchstabe b und c fallen, in den Steuerklassen I bis V in Höhe der dem Arbeitgeber mitgeteilten Beiträge im Sinne des § 10 Absatz 1 Nummer 3, etwaig vervielfältigt unter sinngemäßer Anwendung von Satz 2 auf einen Jahresbetrag, vermindert um den Betrag, der bezogen auf den Arbeitslohn unter Berücksichtigung der Beitragsbemessungsgrenze und den ermäßigten Beitragssatz in der gesetzlichen Krankenversicherung sowie den bundeseinheitlichen Beitragssatz in der sozialen Pflegeversicherung dem Arbeitgeberanteil für einen pflichtversicherten Arbeitnehmer entspricht, wenn der Arbeitgeber gesetzlich verpflichtet ist, Zuschüsse zu den Kranken- und Pflegeversicherungsbeiträgen des Arbeitnehmers zu leisten; Entschädigungen im Sinne des § 24 Nummer 1 sind bei Anwendung der Buchstaben a bis c nicht zu berücksichtigen; mindestens ist für die Summe der Teilbeträge nach den Buchstaben b und c oder für den Teilbetrag nach Buchstabe d ein Betrag in Höhe von 12 Prozent des Arbeitslohns, höchstens 1 900 Euro in den Steuerklassen I, II, IV, V, VI und höchstens 3 000 Euro in der Steuerklasse III anzusetzen, 4. den Entlastungsbetrag für Alleinerziehende für ein Kind (§ 24b Absatz 2 Satz 1) in der Steuerklasse II, ergibt den zu versteuernden Jahresbetrag. 6 Für den zu versteuernden Jahresbetrag ist die Jahreslohnsteuer in den Steuerklassen I, II und IV nach § 32a Absatz 1 sowie in der Steuerklasse III nach § 32a Absatz 5 zu berechnen. 7 In den Steuerklassen V und VI ist die Jahreslohnsteuer zu berechnen, die sich aus dem Zweifachen des Unterschiedsbetrags zwischen dem Steuerbetrag für das Eineinviertelfache und dem Steuerbetrag für das Dreiviertelfache des zu versteuernden Jahresbetrags nach § 32a Absatz 1 ergibt; die Jahreslohnsteuer beträgt jedoch mindestens 14 Prozent des zu versteuernden Jahresbetrags, für den 10 440 Euro übersteigenden Teil des zu versteuernden Jahresbetrags höchstens 42 Prozent, für den 27 475 Euro übersteigenden Teil des zu versteuernden Jahresbetrags 42 Prozent und für den 208 426 Euro übersteigenden Teil des zu versteuernden Jahresbetrags 45 Prozent. 8 Für die Lohnsteuerberechnung ist die als Lohnsteuerabzugsmerkmal mitgeteilte oder die nach § 39c Absatz 1 oder Absatz 2 oder nach § 39e Absatz 5a oder Absatz 6 Satz 8 anzuwendende Steuerklasse maßgebend. 9 Die monatliche Lohnsteuer ist 1 / 12 , die wöchentliche Lohnsteuer sind 7 / 360 und die tägliche Lohnsteuer ist 1 / 360 der Jahreslohnsteuer. 10 Bruchteile eines Cents, die sich bei der Berechnung nach den Sätzen 2 und 9 ergeben, bleiben jeweils außer Ansatz. 11 Die auf den Lohnzahlungszeitraum entfallende Lohnsteuer ist vom Arbeitslohn einzubehalten. 12 Das Betriebsstättenfinanzamt kann allgemein oder auf Antrag zulassen, dass die Lohnsteuer unter den Voraussetzungen des § 42b Absatz 1 nach dem voraussichtlichen Jahresarbeitslohn ermittelt wird, wenn gewährleistet ist, dass die zutreffende Jahreslohnsteuer (§ 38a Absatz 2) nicht unterschritten wird. 13 Darüber hinaus kann das Betriebsstättenfinanzamt auf Antrag zulassen, dass bei nach § 1 Absatz 1 unbeschränkt einkommensteuerpflichtigen Arbeitnehmern mit Steuerklasse VI und ohne Freibetrag nach § 39a, die bei dem Arbeitgeber gelegentlich, nicht regelmäßig wiederkehrend beschäftigt werden und deren Dauer der Beschäftigung 24 zusammenhängende Arbeitstage nicht übersteigt, der während der Beschäftigung erzielte Arbeitslohn auf einen Jahresbetrag hochgerechnet und die sich ergebende Lohnsteuer auf den Lohnabrechnungszeitraum zurückgerechnet wird, wobei als Lohnabrechnungszeitraum der Zeitraum vom Beginn des Kalenderjahres bis zum Ende der Beschäftigung gilt. 14 Bei Anwendung des Satzes 13 sind auch der im Kalenderjahr in etwaigen vorangegangenen und beendeten weiteren Dienstverhältnissen in der Steuerklasse VI bezogene Arbeitslohn und die darauf erhobene Lohnsteuer einzubeziehen, soweit dort bereits Satz 13 angewandt wurde. 15 Voraussetzung für die Anwendung des Verfahrens nach Satz 13 ist zudem, dass der Arbeitnehmer vor Aufnahme der Beschäftigung 1. unter Angabe seiner Identifikationsnummer gegenüber dem Arbeitgeber schriftlich zustimmt, 2. mit der Zustimmung den nach Satz 14 einzubeziehenden Arbeitslohn und die darauf erhobene Lohnsteuer erklärt und 3. mit der Zustimmung versichert, dass ihm der Pflichtveranlagungstatbestand nach § 46 Absatz 2 Nummer 2 und 3a bekannt ist. 16 Die Zustimmungserklärung des Arbeitnehmers ist zum Lohnkonto zu nehmen. (3) 1 Für die Einbehaltung der Lohnsteuer von einem sonstigen Bezug hat der Arbeitgeber den voraussichtlichen Jahresarbeitslohn ohne den sonstigen Bezug festzustellen. 2 Hat der Arbeitnehmer Lohnsteuerbescheinigungen aus früheren Dienstverhältnissen des Kalenderjahres nicht vorgelegt, so ist bei der Ermittlung des voraussichtlichen Jahresarbeitslohns der Arbeitslohn für Beschäftigungszeiten bei früheren Arbeitgebern mit dem Betrag anzusetzen, der sich ergibt, wenn der laufende Arbeitslohn im Monat der Zahlung des sonstigen Bezugs entsprechend der Beschäftigungsdauer bei früheren Arbeitgebern hochgerechnet wird. 3 Der voraussichtliche Jahresarbeitslohn ist um den Versorgungsfreibetrag (§ 19 Absatz 2) und den Altersentlastungsbetrag (§ 24a), wenn die Voraussetzungen für den Abzug dieser Beträge jeweils erfüllt sind, sowie um einen etwaigen als Lohnsteuerabzugsmerkmal mitgeteilten Jahresfreibetrag zu vermindern und um einen etwaigen Jahreshinzurechnungsbetrag zu erhöhen. 4 Für den so ermittelten Jahresarbeitslohn (maßgebender Jahresarbeitslohn) ist die Lohnsteuer nach Maßgabe des Absatzes 2 Satz 5 bis 7 zu ermitteln. 5 Außerdem ist die Jahreslohnsteuer für den maßgebenden Jahresarbeitslohn unter Einbeziehung des sonstigen Bezugs zu ermitteln. 6 Dabei ist der sonstige Bezug um den Versorgungsfreibetrag und den Altersentlastungsbetrag zu vermindern, wenn die Voraussetzungen für den Abzug dieser Beträge jeweils erfüllt sind und soweit sie nicht bei der Steuerberechnung für den maßgebenden Jahresarbeitslohn berücksichtigt worden sind. 7 Für die Lohnsteuerberechnung ist die als Lohnsteuerabzugsmerkmal mitgeteilte oder die nach § 39c Absatz 1 oder Absatz 2 oder nach § 39e Absatz 5a oder Absatz 6 Satz 8 anzuwendende Steuerklasse maßgebend. 8 Der Unterschiedsbetrag zwischen den ermittelten Jahreslohnsteuerbeträgen ist die Lohnsteuer, die vom sonstigen Bezug einzubehalten ist. 9 Die Lohnsteuer ist bei einem sonstigen Bezug im Sinne des § 34 Absatz 1 und 2 Nummer 2 und 4 in der Weise zu ermäßigen, dass der sonstige Bezug bei der Anwendung des Satzes 5 mit einem Fünftel anzusetzen und der Unterschiedsbetrag im Sinne des Satzes 8 zu verfünffachen ist; § 34 Absatz 1 Satz 3 ist sinngemäß anzuwenden. 10 Ein sonstiger Bezug im Sinne des § 34 Absatz 1 und 2 Nummer 4 ist bei der Anwendung des Satzes 4 in die Bemessungsgrundlage für die Vorsorgepauschale nach Absatz 2 Satz 5 Nummer 3 einzubeziehen. (4) In den Kalenderjahren 2010 bis 2024 ist Absatz 2 Satz 5 Nummer 3 Buchstabe a mit der Maßgabe anzuwenden, dass im Kalenderjahr 2010 der ermittelte Betrag auf 40 Prozent begrenzt und dieser Prozentsatz in jedem folgenden Kalenderjahr um je 4 Prozentpunkte erhöht wird. (5) 1 Wenn der Arbeitgeber für den Lohnzahlungszeitraum lediglich Abschlagszahlungen leistet und eine Lohnabrechnung für einen längeren Zeitraum (Lohnabrechnungszeitraum) vornimmt, kann er den Lohnabrechnungszeitraum als Lohnzahlungszeitraum behandeln und die Lohnsteuer abweichend von § 38 Absatz 3 bei der Lohnabrechnung einbehalten. 2 Satz 1 gilt nicht, wenn der Lohnabrechnungszeitraum fünf Wochen übersteigt oder die Lohnabrechnung nicht innerhalb von drei Wochen nach dessen Ablauf erfolgt. 3 Das Betriebsstättenfinanzamt kann anordnen, dass die Lohnsteuer von den Abschlagszahlungen einzubehalten ist, wenn die Erhebung der Lohnsteuer sonst nicht gesichert erscheint. 4 Wenn wegen einer besonderen Entlohnungsart weder ein Lohnzahlungszeitraum noch ein Lohnabrechnungszeitraum festgestellt werden kann, gilt als Lohnzahlungszeitraum die Summe der tatsächlichen Arbeitstage oder Arbeitswochen. (6) 1 Das Bundesministerium der Finanzen hat im Einvernehmen mit den obersten Finanzbehörden der Länder auf der Grundlage der Absätze 2 und 3 einen Programmablaufplan für die maschinelle Berechnung der Lohnsteuer aufzustellen und bekannt zu machen. 2 Im Programmablaufplan kann von den Regelungen in den Absätzen 2 und 3 abgewichen werden, wenn sich das Ergebnis der maschinellen Berechnung der Lohnsteuer an das Ergebnis einer Veranlagung zur Einkommensteuer anlehnt.\n",
      "\n",
      "63\n",
      "1. Leistet der Arbeitnehmer an den Arbeitgeber für die außerdienstliche Nutzung, d.h. für die Nutzung zu privaten Fahrten und zu Fahrten zwischen Wohnung und regelmäßiger Arbeitsstätte, eines betrieblichen Kfz ein Nutzungsentgelt, mindert dies den Wert des geldwerten Vorteils aus der Nutzungsüberlassung (Anschluss an Senatsurteil vom 7. November 2006 VI R 95/04, BFHE 215, 252, BStBl II 2007, 269). 2. Nichts anderes gilt, wenn der Arbeitnehmer im Rahmen der privaten Nutzung einzelne (individuelle) Kosten (hier: Kraftstoffkosten) des betrieblichen PKW trägt. Der Umstand, dass der geldwerte Vorteil aus der Kfz-Überlassung nach der 1 %-Regelung ermittelt worden ist, steht dem nicht entgegen. 3. Eine vorteilsmindernde Berücksichtigung der für den betrieblichen PKW getragenen Aufwendungen beim Arbeitnehmer kommt allerdings nur in Betracht, wenn er den geltend gemachten Aufwand im Einzelnen umfassend darlegt und belastbar nachweist.\n",
      "\n",
      "217\n",
      "1. Die Anwendung der 1 %-Regelung setzt voraus, dass der Arbeitgeber seinem Arbeitnehmer tatsächlich einen Dienstwagen zur privaten Nutzung überlassen hat (Anschluss an Senatsurteil vom 21. April 2010 VI R 46/08, BFHE 229, 228, BStBl II 2010, 848). Denn der Ansatz eines lohnsteuerrechtlich erheblichen Vorteils rechtfertigt sich nur insoweit, als der Arbeitgeber dem Arbeitnehmer gestattet, den Dienstwagen privat zu nutzen . 2. Allein die Gestattung der Nutzung eines betrieblichen Fahrzeugs für Fahrten zwischen Wohnung und Arbeitsstätte begründet noch keine Überlassung zur privaten Nutzung i.S. des § 8 Abs. 2 Satz 2 EStG .\n",
      "\n",
      "976\n",
      "1. NV: Die Anwendung der 1 %-Regelung setzt voraus, dass der Arbeitgeber seinem Arbeitnehmer tatsächlich einen Dienstwagen zur privaten Nutzung überlassen hat (Anschluss an Senatsurteil vom 21. April 2010 VI R 46/08, BFHE 229, 228, BStBl II 2010, 848). Denn der Ansatz eines lohnsteuerrechtlich erheblichen Vorteils rechtfertigt sich nur insoweit, als der Arbeitgeber dem Arbeitnehmer gestattet, den Dienstwagen privat zu nutzen . 2. NV: Allein die Gestattung der Nutzung eines betrieblichen Fahrzeugs für Fahrten zwischen Wohnung und Arbeitsstätte begründet noch keine Überlassung zur privaten Nutzung i.S. des § 8 Abs. 2 Satz 2 EStG .\n",
      "\n",
      "372\n",
      "1. Die Anwendung der 1 %-Regelung setzt voraus, dass der Arbeitgeber seinem Arbeitnehmer tatsächlich einen Dienstwagen zur privaten Nutzung überlassen hat . 2. Der Anscheinsbeweis streitet dafür, dass der Arbeitnehmer einen ihm vom Arbeitgeber zur privaten Nutzung überlassenen Dienstwagen auch tatsächlich privat nutzt, nicht aber dafür, dass der Arbeitgeber dem Arbeitnehmer den Dienstwagen zur privaten Nutzung überlassen hat .\n",
      "\n",
      "1143\n",
      "1. NV: Die Anwendung der 1 %-Regelung setzt voraus, dass der Arbeitgeber seinem Arbeitnehmer tatsächlich einen Dienstwagen zur privaten Nutzung überlassen hat (Anschluss an Senatsurteil vom 21. April 2010 VI R 46/08, BFHE 229, 228, BStBl II 2010, 848). Denn der Ansatz eines lohnsteuerrechtlich erheblichen Vorteils rechtfertigt sich nur insoweit, als der Arbeitgeber dem Arbeitnehmer gestattet, den Dienstwagen privat zu nutzen . 2. NV: Allein die Gestattung der Nutzung eines betrieblichen Fahrzeugs für Fahrten zwischen Wohnung und Arbeitsstätte begründet noch keine Überlassung zur privaten Nutzung i.S. des § 8 Abs. 2 Satz EStG .\n",
      "\n",
      "1245\n",
      "1. NV: Die Rechtsfrage, ob es an einem geldwerten Vorteil i.S. der 1 %-Regelung (§ 8 Abs. 2 Sätze 2 bis 4 i.V.m. § 6 Abs. 1 Nr. 4 Satz 2 EStG) fehlt, wenn der Arbeitnehmer das betriebliche Fahrzeug nicht unentgeltlich oder verbilligt, sondern nur ein gegen ein kostendeckendes Entgelt privat nutzen darf, ist durch die Rechtsprechung des BFH geklärt (Senatsurteil vom 7. November 2006 VI R 95/04, BFHE 215, 252, BStBl II 2007, 269) . 2. NV: Eine Rechtsfrage, die sich nur stellt, wenn von einem nicht in der Vorentscheidung festgestellten Sachverhalt ausgegangen wird, kann die Zulassung der Revision gemäß § 115 Abs. 2 Nr. 1 FGO nicht rechtfertigen .\n",
      "\n"
     ]
    }
   ],
   "source": [
    "# print best fits\n",
    "for i in sorted_predictions:\n",
    "    print(i)\n",
    "    print(content[i])"
   ]
  }
 ],
 "metadata": {
  "kernelspec": {
   "display_name": "Python 3",
   "language": "python",
   "name": "python3"
  },
  "language_info": {
   "codemirror_mode": {
    "name": "ipython",
    "version": 3
   },
   "file_extension": ".py",
   "mimetype": "text/x-python",
   "name": "python",
   "nbconvert_exporter": "python",
   "pygments_lexer": "ipython3",
   "version": "3.8.5"
  }
 },
 "nbformat": 4,
 "nbformat_minor": 1
}